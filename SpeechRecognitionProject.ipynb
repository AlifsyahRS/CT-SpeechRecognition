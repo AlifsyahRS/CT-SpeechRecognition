{
  "cells": [
    {
      "cell_type": "code",
      "execution_count": null,
      "metadata": {
        "colab": {
          "base_uri": "https://localhost:8080/"
        },
        "id": "lUqbJuSmrUhG",
        "outputId": "60336226-bf81-4181-f539-c7c8ab979715"
      },
      "outputs": [
        {
          "name": "stdout",
          "output_type": "stream",
          "text": [
            "Looking in indexes: https://pypi.org/simple, https://us-python.pkg.dev/colab-wheels/public/simple/\n",
            "Requirement already satisfied: soundfile in /usr/local/lib/python3.7/dist-packages (0.10.3.post1)\n",
            "Requirement already satisfied: cffi>=1.0 in /usr/local/lib/python3.7/dist-packages (from soundfile) (1.15.0)\n",
            "Requirement already satisfied: pycparser in /usr/local/lib/python3.7/dist-packages (from cffi>=1.0->soundfile) (2.21)\n",
            "Looking in indexes: https://pypi.org/simple, https://us-python.pkg.dev/colab-wheels/public/simple/\n",
            "Collecting SpeechRecognition\n",
            "  Downloading SpeechRecognition-3.8.1-py2.py3-none-any.whl (32.8 MB)\n",
            "\u001b[K     |████████████████████████████████| 32.8 MB 142 kB/s \n",
            "\u001b[?25hInstalling collected packages: SpeechRecognition\n",
            "Successfully installed SpeechRecognition-3.8.1\n",
            "Looking in indexes: https://pypi.org/simple, https://us-python.pkg.dev/colab-wheels/public/simple/\n",
            "Collecting language-tool-python\n",
            "  Downloading language_tool_python-2.7.1-py3-none-any.whl (34 kB)\n",
            "Requirement already satisfied: tqdm in /usr/local/lib/python3.7/dist-packages (from language-tool-python) (4.64.0)\n",
            "Requirement already satisfied: requests in /usr/local/lib/python3.7/dist-packages (from language-tool-python) (2.23.0)\n",
            "Requirement already satisfied: idna<3,>=2.5 in /usr/local/lib/python3.7/dist-packages (from requests->language-tool-python) (2.10)\n",
            "Requirement already satisfied: chardet<4,>=3.0.2 in /usr/local/lib/python3.7/dist-packages (from requests->language-tool-python) (3.0.4)\n",
            "Requirement already satisfied: certifi>=2017.4.17 in /usr/local/lib/python3.7/dist-packages (from requests->language-tool-python) (2022.6.15)\n",
            "Requirement already satisfied: urllib3!=1.25.0,!=1.25.1,<1.26,>=1.21.1 in /usr/local/lib/python3.7/dist-packages (from requests->language-tool-python) (1.24.3)\n",
            "Installing collected packages: language-tool-python\n",
            "Successfully installed language-tool-python-2.7.1\n"
          ]
        }
      ],
      "source": [
        "! pip install soundfile\n",
        "! pip install SpeechRecognition\n",
        "! pip install language-tool-python\n",
        "# Run this first before every session"
      ]
    },
    {
      "cell_type": "code",
      "execution_count": null,
      "metadata": {
        "colab": {
          "base_uri": "https://localhost:8080/"
        },
        "id": "xAz9sMgTgVpk",
        "outputId": "ecf21d7c-8d3d-43e9-e3cc-569aba52aaf6"
      },
      "outputs": [
        {
          "name": "stderr",
          "output_type": "stream",
          "text": [
            "[nltk_data] Downloading package punkt to /root/nltk_data...\n",
            "[nltk_data]   Unzipping tokenizers/punkt.zip.\n",
            "[nltk_data] Downloading package averaged_perceptron_tagger to\n",
            "[nltk_data]     /root/nltk_data...\n",
            "[nltk_data]   Unzipping taggers/averaged_perceptron_tagger.zip.\n"
          ]
        },
        {
          "data": {
            "text/plain": [
              "True"
            ]
          },
          "execution_count": 2,
          "metadata": {},
          "output_type": "execute_result"
        }
      ],
      "source": [
        "#Libraries Import \n",
        "\n",
        "import soundfile as sf\n",
        "import speech_recognition as sr\n",
        "import requests\n",
        "import re\n",
        "import nltk\n",
        "import language_tool_python\n",
        "\n",
        "nltk.download('punkt')\n",
        "nltk.download('averaged_perceptron_tagger')"
      ]
    },
    {
      "cell_type": "code",
      "execution_count": null,
      "metadata": {
        "colab": {
          "base_uri": "https://localhost:8080/"
        },
        "id": "0H-7zAHMS5mA",
        "outputId": "02544ef8-66ed-484c-87ca-bd9f58f1d698"
      },
      "outputs": [
        {
          "name": "stdout",
          "output_type": "stream",
          "text": [
            "Length of audio: 78 seconds\n"
          ]
        }
      ],
      "source": [
        "# Reading the downloaded audio file and finding the length\n",
        "file = 'ns002.wav'\n",
        "f =  sf.SoundFile(file)\n",
        "audio_length = int(len(f) / f.samplerate) + (len(f)%f.samplerate > 0)    #round up to make sure we get the entire file\n",
        "print(f\"Length of audio: {audio_length} seconds\") # Lddength of the audio file in seconds"
      ]
    },
    {
      "cell_type": "code",
      "execution_count": null,
      "metadata": {
        "id": "O3BE18Bq1Fcy"
      },
      "outputs": [],
      "source": [
        "# Number of loops to make to recognize audio file\n",
        "loop_number = int(audio_length/10) + (audio_length% 10 >0) #calculate the number of required loops\n",
        "\n",
        "\n",
        "#create a function that loops through the audio file and transcribes\n",
        "def transcribe(loops, starting_increment):\n",
        "    audio_text1 = [] \n",
        "    increment = starting_increment \n",
        "    for i in range(loops):\n",
        "        r = sr.Recognizer()\n",
        "        with sr.AudioFile(file) as source:\n",
        "            audio = r.record(source, offset = (increment) , duration= 10)\n",
        "        string = r.recognize_google(audio)\n",
        "        audio_text1.append(string)\n",
        "        increment += 10\n",
        "    return audio_text1"
      ]
    },
    {
      "cell_type": "code",
      "execution_count": null,
      "metadata": {
        "id": "Ya3L5rGQBDdQ"
      },
      "outputs": [],
      "source": [
        "audio_text = transcribe(loop_number, 0)\n"
      ]
    },
    {
      "cell_type": "code",
      "execution_count": null,
      "metadata": {
        "colab": {
          "base_uri": "https://localhost:8080/"
        },
        "id": "pTDCUL0a2Lku",
        "outputId": "eb3bebae-2fc7-45d4-b243-f091af6ba802"
      },
      "outputs": [
        {
          "data": {
            "text/plain": [
              "[\"it was time for a haircut didn't even have to look in the mirror even though he's going bald he knew that he needed to cut his hair ever\",\n",
              " 'two weeks he had a ton of hair on the top of his head his hair was at the crown he still have',\n",
              " 'eisenback it was what they call Salt and Pepper a mixture of gray hair and dark brown hair it was only a few years to figure',\n",
              " 'until the salt and pepper became just salt he never let his hair grow for more than two weeks the longer it got the worse it looked',\n",
              " 'thought his brother newspaper over the bathroom sink so that no hair went down the drain he plugged in the Clippers and started cutting his hair',\n",
              " 'he started at the back of his head went to the sides and finished on the top every minute or so he had to clean the hair out of the blades',\n",
              " 'with an old toothbrush he picked up a mirror to check out the back of his head everything looked okay he carried the news',\n",
              " 'back out to the kitchen and shook the hair clippings into the trash can then he took a shower']"
            ]
          },
          "execution_count": 6,
          "metadata": {},
          "output_type": "execute_result"
        }
      ],
      "source": [
        "audio_text"
      ]
    },
    {
      "cell_type": "code",
      "execution_count": null,
      "metadata": {
        "colab": {
          "base_uri": "https://localhost:8080/",
          "height": 174
        },
        "id": "5j9EscIlC2a3",
        "outputId": "a0f8e407-faec-454e-c3d1-c06834bba359"
      },
      "outputs": [
        {
          "data": {
            "application/vnd.google.colaboratory.intrinsic+json": {
              "type": "string"
            },
            "text/plain": [
              "\"it was time for a haircut didn't even have to look in the mirror even though he's going bald he knew that he needed to cut his hair evertwo weeks he had a ton of hair on the top of his head his hair was at the crown he still haveeisenback it was what they call Salt and Pepper a mixture of gray hair and dark brown hair it was only a few years to figureuntil the salt and pepper became just salt he never let his hair grow for more than two weeks the longer it got the worse it lookedthought his brother newspaper over the bathroom sink so that no hair went down the drain he plugged in the Clippers and started cutting his hairhe started at the back of his head went to the sides and finished on the top every minute or so he had to clean the hair out of the bladeswith an old toothbrush he picked up a mirror to check out the back of his head everything looked okay he carried the newsback out to the kitchen and shook the hair clippings into the trash can then he took a shower\""
            ]
          },
          "execution_count": 7,
          "metadata": {},
          "output_type": "execute_result"
        }
      ],
      "source": [
        "\n",
        "full_text = \"\".join(audio_text)\n",
        "full_text"
      ]
    },
    {
      "cell_type": "code",
      "execution_count": null,
      "metadata": {
        "colab": {
          "base_uri": "https://localhost:8080/",
          "height": 174
        },
        "id": "3p1iizv6EIBI",
        "outputId": "cf84bbd5-ee5b-4e87-e707-8a2eddee6f7a"
      },
      "outputs": [
        {
          "data": {
            "application/vnd.google.colaboratory.intrinsic+json": {
              "type": "string"
            },
            "text/plain": [
              "\"It was time for a haircut didn't even have to look in the mirror. Even though he's going bald, he knew that he needed to cut his hair evertwo weeks. He had a ton of hair on the top of his head. His hair was at the crown he still haveeisenback. It was what they call: Salt and Pepper, a mixture of gray, hair and dark brown hair. It was only a few years to figureuntil the salt and pepper became just salt. He never let his hair grow for more than two weeks. The longer it got, the worse it lookedthought his brother newspaper over the bathroom sink so that no hair went down the drain he plugged in the Clippers and started cutting his hairhe started at the back of his head, went to the sides and finished on the top. Every minute, or so he had to clean the hair out of the bladeswith, an old toothbrush. He picked up a mirror to check out the back of his head. Everything looked okay, he carried the newsback out to the kitchen and shook the hair clippings into the trash. Can then he took a shower \""
            ]
          },
          "execution_count": 8,
          "metadata": {},
          "output_type": "execute_result"
        }
      ],
      "source": [
        "# Temporary punctuator to trial error handling\n",
        "\n",
        "url_punctuator = 'http://bark.phon.ioc.ee/punctuator'\n",
        "r = requests.post(url_punctuator, data = {'text': full_text})\n",
        "punc_text = r.text\n",
        "punc_text"
      ]
    },
    {
      "cell_type": "code",
      "execution_count": null,
      "metadata": {
        "colab": {
          "base_uri": "https://localhost:8080/"
        },
        "id": "pg-qEoaWKN0X",
        "outputId": "7002fcb9-e0ec-4b5f-a5eb-aff8d8090e98"
      },
      "outputs": [
        {
          "data": {
            "text/plain": [
              "[\"It was time for a haircut didn't even have to look in the mirror.\",\n",
              " \"Even though he's going bald, he knew that he needed to cut his hair evertwo weeks.\",\n",
              " 'He had a ton of hair on the top of his head.',\n",
              " 'His hair was at the crown he still haveeisenback.',\n",
              " 'It was what they call: Salt and Pepper, a mixture of gray, hair and dark brown hair.',\n",
              " 'It was only a few years to figureuntil the salt and pepper became just salt.',\n",
              " 'He never let his hair grow for more than two weeks.',\n",
              " 'The longer it got, the worse it lookedthought his brother newspaper over the bathroom sink so that no hair went down the drain he plugged in the Clippers and started cutting his hairhe started at the back of his head, went to the sides and finished on the top.',\n",
              " 'Every minute, or so he had to clean the hair out of the bladeswith, an old toothbrush.',\n",
              " 'He picked up a mirror to check out the back of his head.',\n",
              " 'Everything looked okay, he carried the newsback out to the kitchen and shook the hair clippings into the trash.']"
            ]
          },
          "execution_count": 9,
          "metadata": {},
          "output_type": "execute_result"
        }
      ],
      "source": [
        "# Splitting text by sentences\n",
        "alphabets= \"([A-Za-z])\"\n",
        "prefixes = \"(Mr|St|Mrs|Ms|Dr)[.]\"\n",
        "suffixes = \"(Inc|Ltd|Jr|Sr|Co)\"\n",
        "starters = \"(Mr|Mrs|Ms|Dr|He\\s|She\\s|It\\s|They\\s|Their\\s|Our\\s|We\\s|But\\s|However\\s|That\\s|This\\s|Wherever)\"\n",
        "acronyms = \"([A-Z][.][A-Z][.](?:[A-Z][.])?)\"\n",
        "websites = \"[.](com|net|org|io|gov)\"\n",
        "\n",
        "def split_into_sentences(text):\n",
        "    text = \" \" + text + \"  \"\n",
        "    text = text.replace(\"\\n\",\" \")\n",
        "    text = re.sub(prefixes,\"\\\\1<prd>\",text)\n",
        "    text = re.sub(websites,\"<prd>\\\\1\",text)\n",
        "    if \"Ph.D\" in text: text = text.replace(\"Ph.D.\",\"Ph<prd>D<prd>\")\n",
        "    text = re.sub(\"\\s\" + alphabets + \"[.] \",\" \\\\1<prd> \",text)\n",
        "    text = re.sub(acronyms+\" \"+starters,\"\\\\1<stop> \\\\2\",text)\n",
        "    text = re.sub(alphabets + \"[.]\" + alphabets + \"[.]\" + alphabets + \"[.]\",\"\\\\1<prd>\\\\2<prd>\\\\3<prd>\",text)\n",
        "    text = re.sub(alphabets + \"[.]\" + alphabets + \"[.]\",\"\\\\1<prd>\\\\2<prd>\",text)\n",
        "    text = re.sub(\" \"+suffixes+\"[.] \"+starters,\" \\\\1<stop> \\\\2\",text)\n",
        "    text = re.sub(\" \"+suffixes+\"[.]\",\" \\\\1<prd>\",text)\n",
        "    text = re.sub(\" \" + alphabets + \"[.]\",\" \\\\1<prd>\",text)\n",
        "    if \"”\" in text: text = text.replace(\".”\",\"”.\")\n",
        "    if \"\\\"\" in text: text = text.replace(\".\\\"\",\"\\\".\")\n",
        "    if \"!\" in text: text = text.replace(\"!\\\"\",\"\\\"!\")\n",
        "    if \"?\" in text: text = text.replace(\"?\\\"\",\"\\\"?\")\n",
        "    text = text.replace(\".\",\".<stop>\")\n",
        "    text = text.replace(\"?\",\"?<stop>\")\n",
        "    text = text.replace(\"!\",\"!<stop>\")\n",
        "    text = text.replace(\"<prd>\",\".\")\n",
        "    sentences = text.split(\"<stop>\")\n",
        "    sentences = sentences[:-1]\n",
        "    sentences = [s.strip() for s in sentences]\n",
        "    return sentences\n",
        "\n",
        "sentence_list = split_into_sentences(punc_text)\n",
        "sentence_list"
      ]
    },
    {
      "cell_type": "code",
      "execution_count": null,
      "metadata": {
        "colab": {
          "base_uri": "https://localhost:8080/"
        },
        "id": "Kid7Xq0OKmZV",
        "outputId": "141127f4-53c3-4766-98d6-787ef0816b1b"
      },
      "outputs": [
        {
          "name": "stderr",
          "output_type": "stream",
          "text": [
            "Downloading LanguageTool 5.7: 100%|██████████| 225M/225M [00:04<00:00, 52.6MB/s]\n",
            "Unzipping /tmp/tmp3_tex1uy.zip to /root/.cache/language_tool_python.\n",
            "Downloaded https://www.languagetool.org/download/LanguageTool-5.7.zip to /root/.cache/language_tool_python.\n"
          ]
        },
        {
          "name": "stdout",
          "output_type": "stream",
          "text": [
            "Grammatical error in sentence 2. Recommended fix: 'Even though he's going bald, he knew that he needed to cut his hair ever two weeks.'\n",
            "Grammatical error in sentence 4. Recommended fix: 'His hair was at the crown he still haveeisenback.'\n",
            "Grammatical error in sentence 6. Recommended fix: 'It was only a few years to figure until the salt and pepper became just salt.'\n",
            "Grammatical error in sentence 8. Recommended fix: 'The longer it got, the worse it looked thought his brother newspaper over the bathroom sink so that no hair went down the drain he plugged in the Clippers and started cutting his hearse started at the back of his head, went to the sides and finished on the top.'\n",
            "Grammatical error in sentence 9. Recommended fix: 'Every minute, or so he had to clean the hair out of the blades with, an old toothbrush.'\n",
            "Grammatical error in sentence 11. Recommended fix: 'Everything looked okay, he carried the news back out to the kitchen and shook the hair clippings into the trash.'\n"
          ]
        }
      ],
      "source": [
        "# Checking for grammatical errors using parsers via the language-tool-python library\n",
        "\n",
        "tool = language_tool_python.LanguageTool('en-US')\n",
        "\n",
        "for i in range(len(sentence_list)):\n",
        "  matches = tool.check(sentence_list[i])\n",
        "  if len(matches) > 0:\n",
        "    print(f\"Grammatical error in sentence {i+1}. Recommended fix: '{tool.correct(sentence_list[i])}'\") # Not perfect. There are some cases that the parser can't correct"
      ]
    },
    {
      "cell_type": "code",
      "execution_count": null,
      "metadata": {
        "id": "PCgGsEZ8X24S"
      },
      "outputs": [],
      "source": [
        "text_file = open(\"result.txt\",\"a\")\n",
        "for i in sentence_list:\n",
        "  text_file.write(f\"{i}\\n\")\n",
        "text_file.close()"
      ]
    }
  ],
  "metadata": {
    "colab": {
      "collapsed_sections": [],
      "name": "SpeechRecognitionProject.ipynb",
      "provenance": []
    },
    "kernelspec": {
      "display_name": "Python 3",
      "name": "python3"
    },
    "language_info": {
      "name": "python"
    }
  },
  "nbformat": 4,
  "nbformat_minor": 0
}
